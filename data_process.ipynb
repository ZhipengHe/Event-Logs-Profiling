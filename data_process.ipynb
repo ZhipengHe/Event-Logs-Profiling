{
 "metadata": {
  "language_info": {
   "codemirror_mode": {
    "name": "ipython",
    "version": 3
   },
   "file_extension": ".py",
   "mimetype": "text/x-python",
   "name": "python",
   "nbconvert_exporter": "python",
   "pygments_lexer": "ipython3",
   "version": "3.8.10"
  },
  "orig_nbformat": 2,
  "kernelspec": {
   "name": "python3810jvsc74a57bd0e658b89ffc45fdab40e328c3af76543210f39bc3b3807264bb28b505ecb02c32",
   "display_name": "Python 3.8.10 64-bit ('EventLog': conda)"
  }
 },
 "nbformat": 4,
 "nbformat_minor": 2,
 "cells": [
  {
   "cell_type": "code",
   "execution_count": 1,
   "metadata": {},
   "outputs": [],
   "source": [
    "import pandas as pd\n",
    "import pm4py\n",
    "import os\n",
    "from pm4py.objects.log.util import dataframe_utils\n",
    "from pm4py.objects.conversion.log import converter as log_converter\n",
    "from pm4py.objects.log.importer.xes import importer as xes_importer"
   ]
  },
  {
   "source": [
    "## Functions for proccessing event logs"
   ],
   "cell_type": "markdown",
   "metadata": {}
  },
  {
   "cell_type": "code",
   "execution_count": 2,
   "metadata": {},
   "outputs": [],
   "source": [
    "RAW_DATA_DIR = 'raw_data'\n",
    "PROCESSED_DATA_DIR = 'processed_data'"
   ]
  },
  {
   "cell_type": "code",
   "execution_count": 3,
   "metadata": {},
   "outputs": [],
   "source": [
    "# Set working directory\n",
    "\n",
    "dirname = os.getcwd()\n",
    "raw_data = os.path.join(dirname, RAW_DATA_DIR)\n",
    "processed_data = os.path.join(dirname, PROCESSED_DATA_DIR)\n"
   ]
  },
  {
   "cell_type": "code",
   "execution_count": 4,
   "metadata": {},
   "outputs": [],
   "source": [
    "# Transfer CSV to event log object\n",
    "def csvToLog(filename, caseid, timestamp):\n",
    "    raw_data_name = os.path.join(raw_data, filename)\n",
    "    # processed_data_name = os.path.join(processed_data, filename)\n",
    "\n",
    "    log_csv = pd.read_csv(raw_data_name ,sep=',')\n",
    "    log_csv = dataframe_utils.convert_timestamp_columns_in_df(log_csv)\n",
    "    log_csv = log_csv.sort_values(timestamp)\n",
    "    parameters = {log_converter.Variants.TO_EVENT_LOG.value.Parameters.CASE_ID_KEY: caseid}\n",
    "    return log_converter.apply(log_csv, parameters=parameters, variant=log_converter.Variants.TO_EVENT_LOG)\n",
    "\n",
    "\n",
    "# Import XES event log\n",
    "def xesToLog(filename):\n",
    "    raw_data_name = os.path.join(raw_data, filename)\n",
    "    # processed_data_name = os.path.join(processed_data, filename)\n",
    "\n",
    "    return xes_importer.apply(raw_data_name)\n"
   ]
  },
  {
   "cell_type": "code",
   "execution_count": null,
   "metadata": {},
   "outputs": [],
   "source": [
    "\n",
    "def logProfiling(eventlog_object):\n",
    "    \n",
    "    print(\"The total event\")\n"
   ]
  },
  {
   "source": [
    "### Helpdesk\n",
    "\n",
    "Transfer CSV to event log object"
   ],
   "cell_type": "markdown",
   "metadata": {}
  },
  {
   "cell_type": "code",
   "execution_count": 10,
   "metadata": {},
   "outputs": [],
   "source": [
    "HELPDESK = csvToLog('helpdesk.csv', 'CaseID', 'CompleteTimestamp')"
   ]
  },
  {
   "cell_type": "code",
   "execution_count": 5,
   "metadata": {},
   "outputs": [
    {
     "output_type": "stream",
     "name": "stderr",
     "text": [
      "parsing log, completed traces :: 100%|██████████| 251734/251734 [01:02<00:00, 4015.20it/s]\n"
     ]
    }
   ],
   "source": [
    "BPIC11_RAW = xesToLog('bpic19.xes.gz')"
   ]
  },
  {
   "cell_type": "code",
   "execution_count": 6,
   "metadata": {},
   "outputs": [
    {
     "output_type": "execute_result",
     "data": {
      "text/plain": [
       "{'User': 'batch_00', 'org:resource': 'batch_00', 'concept:name': 'SRM: Created', 'Cumulative net worth (EUR)': 298.0, 'time:timestamp': datetime.datetime(2018, 1, 2, 12, 53, tzinfo=datetime.timezone.utc)}"
      ]
     },
     "metadata": {},
     "execution_count": 6
    }
   ],
   "source": [
    "BPIC11_RAW[0][0]"
   ]
  },
  {
   "cell_type": "code",
   "execution_count": null,
   "metadata": {},
   "outputs": [],
   "source": []
  }
 ]
}