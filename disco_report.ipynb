{
 "cells": [
  {
   "cell_type": "code",
   "execution_count": 1,
   "metadata": {},
   "outputs": [],
   "source": [
    "import pandas as pd\n",
    "import os\n",
    "import json"
   ]
  },
  {
   "cell_type": "code",
   "execution_count": null,
   "metadata": {},
   "outputs": [],
   "source": []
  },
  {
   "cell_type": "code",
   "execution_count": 2,
   "metadata": {},
   "outputs": [],
   "source": [
    "DISCO_REPORT_FOLDER = 'Disco Report'\n",
    "\n",
    "DATASET=['helpdesk', 'Sepsis', 'HospitalBilling', 'bpic11', 'bpic12', 'bpic13c', 'bpic13i', 'bpic13o', 'bpic15_1', 'bpic15_2', 'bpic15_3', 'bpic15_4', 'bpic15_5', 'bpic17a', 'bpic17o', 'bpic19']\n",
    "\n",
    "REPORT_TYPE={'Activity', 'Cases', 'Variants'}\n",
    "\n",
    "dirname = os.getcwd()\n",
    "report_dir_path = os.path.join(dirname, DISCO_REPORT_FOLDER)"
   ]
  },
  {
   "cell_type": "code",
   "execution_count": 3,
   "metadata": {},
   "outputs": [],
   "source": [
    "def readReport(log, type):\n",
    "# Type: Cases, Activity, Variants\n",
    "\n",
    "    filename = type + \" in \" + log +\".csv\"\n",
    "    report_name = os.path.join(report_dir_path, filename)\n",
    "    report_csv = pd.read_csv(report_name ,sep=',', low_memory=False)\n",
    "\n",
    "    return report_csv"
   ]
  },
  {
   "cell_type": "code",
   "execution_count": 4,
   "metadata": {},
   "outputs": [],
   "source": [
    "NUM_CASES={}\n",
    "NUM_ACTIVITY={}\n",
    "UNIQUE_ACTIVITY={}\n",
    "NUM_VARIANTS={}\n",
    "CASES_LIST = []\n",
    "ACTIVITY_LIST = []\n",
    "VARIANTS_LIST = []"
   ]
  },
  {
   "cell_type": "code",
   "execution_count": 5,
   "metadata": {},
   "outputs": [],
   "source": [
    "for log in DATASET:\n",
    "    for report in REPORT_TYPE:\n",
    "        # Read all report from Disco\n",
    "        locals()[log + '_' + report] = readReport(log, report)\n",
    "\n",
    "        if report == 'Cases':\n",
    "            # total number of cases\n",
    "            locals()[log + '_num_cases'] = len(locals()[log + '_' + report])\n",
    "            NUM_CASES[log] = str(locals()[log + '_num_cases'])\n",
    "            # NUM_CASES[log] = locals()[log + '_num_cases']\n",
    "\n",
    "\n",
    "            # tital number of events\n",
    "            locals()[log + '_num_activity'] = (locals()[log + '_' + report])['Events'].sum()\n",
    "            NUM_ACTIVITY[log] = str(locals()[log + '_num_activity'])\n",
    "            # NUM_ACTIVITY[log] = locals()[log + '_num_activity']\n",
    "            \n",
    "            locals()[log + '_' + report + '_new'] = locals()[log + '_' + report].assign(Dataset=log)\n",
    "            CASES_LIST.append(locals()[log + '_' + report + '_new'])\n",
    "\n",
    "        if report == 'Activity':\n",
    "            # number of unique activities\n",
    "            locals()[log + '_unique_activity'] = len(locals()[log + '_' + report])\n",
    "            UNIQUE_ACTIVITY[log] = str(locals()[log + '_unique_activity'])\n",
    "            # UNIQUE_ACTIVITY[log] = locals()[log + '_unique_activity']\n",
    "            \n",
    "            locals()[log + '_' + report + '_new'] = locals()[log + '_' + report].assign(Dataset=log)\n",
    "            ACTIVITY_LIST.append(locals()[log + '_' + report + '_new'])\n",
    "\n",
    "        if report == 'Variants':\n",
    "            # total number of variants\n",
    "            locals()[log + '_num_variants'] = len(locals()[log + '_' + report])\n",
    "            NUM_VARIANTS[log] = str(locals()[log + '_num_variants'])\n",
    "            # NUM_VARIANTS[log] = locals()[log + '_num_variants']\n",
    "\n",
    "            locals()[log + '_' + report + '_new'] = locals()[log + '_' + report].assign(Dataset=log)\n",
    "            VARIANTS_LIST.append(locals()[log + '_' + report + '_new'])\n",
    "    "
   ]
  },
  {
   "cell_type": "code",
   "execution_count": 6,
   "metadata": {},
   "outputs": [],
   "source": [
    "# Export dataset for variants\n",
    "pd.concat(CASES_LIST).to_json('processed_data/totalCases.json', orient=\"records\")\n",
    "\n",
    "pd.concat(ACTIVITY_LIST).to_json('processed_data/totalActivity.json', orient=\"records\")\n",
    "\n",
    "pd.concat(VARIANTS_LIST).to_json('processed_data/totalVariants.json', orient=\"records\")"
   ]
  },
  {
   "cell_type": "code",
   "execution_count": 7,
   "metadata": {},
   "outputs": [],
   "source": [
    "with open(\"processed_data/numCases.json\", \"w\") as outfile: \n",
    "    json.dump(NUM_CASES, outfile)\n",
    "\n",
    "with open(\"processed_data/numActivity.json\", \"w\") as outfile: \n",
    "    json.dump(NUM_ACTIVITY, outfile)\n",
    "\n",
    "with open(\"processed_data/uniqueActivity.json\", \"w\") as outfile: \n",
    "    json.dump(UNIQUE_ACTIVITY, outfile)\n",
    "\n",
    "with open(\"processed_data/numVariants.json\", \"w\") as outfile: \n",
    "    json.dump(NUM_VARIANTS, outfile)"
   ]
  },
  {
   "cell_type": "code",
   "execution_count": null,
   "metadata": {},
   "outputs": [],
   "source": []
  }
 ],
 "metadata": {
  "kernelspec": {
   "name": "python3810jvsc74a57bd0e658b89ffc45fdab40e328c3af76543210f39bc3b3807264bb28b505ecb02c32",
   "display_name": "Python 3.8.10 64-bit ('EventLog': conda)"
  },
  "language_info": {
   "codemirror_mode": {
    "name": "ipython",
    "version": 3
   },
   "file_extension": ".py",
   "mimetype": "text/x-python",
   "name": "python",
   "nbconvert_exporter": "python",
   "pygments_lexer": "ipython3",
   "version": "3.8.10"
  }
 },
 "nbformat": 4,
 "nbformat_minor": 2
}